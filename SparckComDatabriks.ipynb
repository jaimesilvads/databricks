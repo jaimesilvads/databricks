{
  "cells": [
    {
      "cell_type": "markdown",
      "metadata": {
        "id": "view-in-github",
        "colab_type": "text"
      },
      "source": [
        "<a href=\"https://colab.research.google.com/github/jaimesilvads/databriks/blob/main/SparckComDatabriks.ipynb\" target=\"_parent\"><img src=\"https://colab.research.google.com/assets/colab-badge.svg\" alt=\"Open In Colab\"/></a>"
      ]
    },
    {
      "cell_type": "markdown",
      "source": [
        "## Usando Pyspark a/ processar dados de um data lake community DataBriks"
      ],
      "metadata": {
        "application/vnd.databricks.v1+cell": {
          "showTitle": false,
          "cellMetadata": {},
          "nuid": "3ce2b6bd-4942-469d-a446-9a9ab3c63e0c",
          "inputWidgets": {},
          "title": ""
        },
        "id": "ztItGM0czPrZ"
      }
    },
    {
      "cell_type": "code",
      "source": [
        "dbutils.fs.mv(\"dbfs:/FileStore/tables/base01/\", \"dbfs:/FileStore/tables/landing/\", recurse=True)\n"
      ],
      "metadata": {
        "application/vnd.databricks.v1+cell": {
          "showTitle": false,
          "cellMetadata": {},
          "nuid": "6a9a212a-428a-4b6d-93d5-877e1fa2d07f",
          "inputWidgets": {},
          "title": ""
        },
        "id": "18B_XnX0zPrm",
        "outputId": "97526fc9-362f-4d53-c70e-aef6b9ba5711"
      },
      "outputs": [
        {
          "output_type": "display_data",
          "metadata": {
            "application/vnd.databricks.v1+output": {
              "datasetInfos": [],
              "data": "Out[8]: True",
              "removedWidgets": [],
              "addedWidgets": {},
              "metadata": {},
              "type": "ansi",
              "arguments": {}
            }
          },
          "data": {
            "text/plain": [
              "Out[8]: True"
            ]
          }
        }
      ],
      "execution_count": null
    },
    {
      "cell_type": "markdown",
      "source": [
        "### Foi realizado o Upload dos dados para landing zone"
      ],
      "metadata": {
        "application/vnd.databricks.v1+cell": {
          "showTitle": false,
          "cellMetadata": {},
          "nuid": "db11e373-853f-47b6-8359-49d01f030f20",
          "inputWidgets": {},
          "title": ""
        },
        "id": "PPkG2N3pzPrp"
      }
    },
    {
      "cell_type": "markdown",
      "source": [],
      "metadata": {
        "application/vnd.databricks.v1+cell": {
          "showTitle": false,
          "cellMetadata": {},
          "nuid": "7dd4d323-b693-42c3-a1ef-842509e7a0f4",
          "inputWidgets": {},
          "title": ""
        },
        "id": "AX85VkqGzPrq"
      }
    },
    {
      "cell_type": "markdown",
      "source": [
        "### Carregando os dados do nosso Data Lake"
      ],
      "metadata": {
        "application/vnd.databricks.v1+cell": {
          "showTitle": false,
          "cellMetadata": {},
          "nuid": "6db316ec-acd8-4306-8ce4-4311dfb3d12e",
          "inputWidgets": {},
          "title": ""
        },
        "id": "SRTDcM0zzPrr"
      }
    },
    {
      "cell_type": "code",
      "source": [
        "df = spark.read.format(\"csv\")\\\n",
        ".option(\"header\", \"True\")\\\n",
        ".option(\"inferSchema\",\"True\")\\\n",
        ".load(\"/FileStore/tables/landing/T2*.csv\")"
      ],
      "metadata": {
        "application/vnd.databricks.v1+cell": {
          "showTitle": false,
          "cellMetadata": {},
          "nuid": "178c296e-31e2-445d-8143-aa61d564990a",
          "inputWidgets": {},
          "title": ""
        },
        "id": "GssHvRWOzPrt"
      },
      "outputs": [],
      "execution_count": null
    },
    {
      "cell_type": "markdown",
      "source": [
        "### imprime os dados lidos da landing zone"
      ],
      "metadata": {
        "application/vnd.databricks.v1+cell": {
          "showTitle": false,
          "cellMetadata": {},
          "nuid": "77c80610-9554-4831-b0dd-2656b8a566de",
          "inputWidgets": {},
          "title": ""
        },
        "id": "5FJIF8GKzPru"
      }
    },
    {
      "cell_type": "code",
      "source": [
        "display(df.head(10))"
      ],
      "metadata": {
        "application/vnd.databricks.v1+cell": {
          "showTitle": false,
          "cellMetadata": {},
          "nuid": "bc59c126-a18c-4f91-8bcf-94f253cf9859",
          "inputWidgets": {},
          "title": ""
        },
        "id": "qloPvSV0zPrw",
        "outputId": "93c9a949-b726-46ee-84e7-10249c667c74"
      },
      "outputs": [
        {
          "output_type": "display_data",
          "metadata": {
            "application/vnd.databricks.v1+output": {
              "overflow": false,
              "datasetInfos": [],
              "data": [
                [
                  "5668",
                  "8092",
                  "592",
                  "2",
                  "44.1",
                  "40.84",
                  "189"
                ],
                [
                  "1596",
                  "17512",
                  "16983",
                  "2",
                  "1.64",
                  "1.64",
                  "35"
                ],
                [
                  "1596",
                  "25587",
                  "16124",
                  "1",
                  "1.26",
                  "1.28",
                  "42"
                ],
                [
                  "1596",
                  "12551",
                  "1282",
                  "2",
                  "0.86",
                  "1.02",
                  "42"
                ],
                [
                  "1596",
                  "18938",
                  "10575",
                  "1",
                  "1.85",
                  "1.82",
                  "56"
                ],
                [
                  "1596",
                  "8777",
                  "21507",
                  "1",
                  "3.31",
                  "3.18",
                  "56"
                ],
                [
                  "1596",
                  "9369",
                  "12008",
                  "1",
                  "63.15",
                  "58.56",
                  "56"
                ],
                [
                  "1596",
                  "27926",
                  "17643",
                  "2",
                  "158.66",
                  "147.07",
                  "56"
                ],
                [
                  "1596",
                  "26148",
                  "10230",
                  "1",
                  "0.35",
                  "0.44",
                  "14"
                ],
                [
                  "1596",
                  "9148",
                  "3381",
                  "1",
                  "0.26",
                  "0.35",
                  "7"
                ]
              ],
              "plotOptions": {
                "displayType": "table",
                "customPlotOptions": {},
                "pivotColumns": null,
                "pivotAggregation": null,
                "xColumns": null,
                "yColumns": null
              },
              "columnCustomDisplayInfos": {},
              "aggType": "",
              "isJsonSchema": true,
              "removedWidgets": [],
              "aggSchema": [],
              "schema": [
                {
                  "name": "practice",
                  "type": "\"string\"",
                  "metadata": "{}"
                },
                {
                  "name": "bnf_code",
                  "type": "\"string\"",
                  "metadata": "{}"
                },
                {
                  "name": "bnf_name",
                  "type": "\"string\"",
                  "metadata": "{}"
                },
                {
                  "name": "items",
                  "type": "\"string\"",
                  "metadata": "{}"
                },
                {
                  "name": "nic",
                  "type": "\"string\"",
                  "metadata": "{}"
                },
                {
                  "name": "act_cost",
                  "type": "\"string\"",
                  "metadata": "{}"
                },
                {
                  "name": "quantity",
                  "type": "\"string\"",
                  "metadata": "{}"
                }
              ],
              "aggError": "",
              "aggData": [],
              "addedWidgets": {},
              "metadata": {},
              "dbfsResultPath": null,
              "type": "table",
              "aggOverflow": false,
              "aggSeriesLimitReached": false,
              "arguments": {}
            }
          },
          "data": {
            "text/html": [
              "<style scoped>\n  .table-result-container {\n    max-height: 300px;\n    overflow: auto;\n  }\n  table, th, td {\n    border: 1px solid black;\n    border-collapse: collapse;\n  }\n  th, td {\n    padding: 5px;\n  }\n  th {\n    text-align: left;\n  }\n</style><div class='table-result-container'><table class='table-result'><thead style='background-color: white'><tr><th>practice</th><th>bnf_code</th><th>bnf_name</th><th>items</th><th>nic</th><th>act_cost</th><th>quantity</th></tr></thead><tbody><tr><td>5668</td><td>8092</td><td>592</td><td>2</td><td>44.1</td><td>40.84</td><td>189</td></tr><tr><td>1596</td><td>17512</td><td>16983</td><td>2</td><td>1.64</td><td>1.64</td><td>35</td></tr><tr><td>1596</td><td>25587</td><td>16124</td><td>1</td><td>1.26</td><td>1.28</td><td>42</td></tr><tr><td>1596</td><td>12551</td><td>1282</td><td>2</td><td>0.86</td><td>1.02</td><td>42</td></tr><tr><td>1596</td><td>18938</td><td>10575</td><td>1</td><td>1.85</td><td>1.82</td><td>56</td></tr><tr><td>1596</td><td>8777</td><td>21507</td><td>1</td><td>3.31</td><td>3.18</td><td>56</td></tr><tr><td>1596</td><td>9369</td><td>12008</td><td>1</td><td>63.15</td><td>58.56</td><td>56</td></tr><tr><td>1596</td><td>27926</td><td>17643</td><td>2</td><td>158.66</td><td>147.07</td><td>56</td></tr><tr><td>1596</td><td>26148</td><td>10230</td><td>1</td><td>0.35</td><td>0.44</td><td>14</td></tr><tr><td>1596</td><td>9148</td><td>3381</td><td>1</td><td>0.26</td><td>0.35</td><td>7</td></tr></tbody></table></div>"
            ]
          }
        }
      ],
      "execution_count": null
    },
    {
      "cell_type": "markdown",
      "source": [
        "### imprime o schema do dataframe"
      ],
      "metadata": {
        "application/vnd.databricks.v1+cell": {
          "showTitle": false,
          "cellMetadata": {},
          "nuid": "f20f39d2-63ff-4966-8971-5f1cec28baff",
          "inputWidgets": {},
          "title": ""
        },
        "id": "V0mwG87UzPrx"
      }
    },
    {
      "cell_type": "code",
      "source": [
        "print (df.printSchema())"
      ],
      "metadata": {
        "application/vnd.databricks.v1+cell": {
          "showTitle": false,
          "cellMetadata": {},
          "nuid": "ef5642ed-0451-450c-835a-144d1cc183c1",
          "inputWidgets": {},
          "title": ""
        },
        "id": "BFLjba1XzPry",
        "outputId": "2a6dc64b-deee-4042-a7cd-2361c4e0fd51"
      },
      "outputs": [
        {
          "output_type": "display_data",
          "metadata": {
            "application/vnd.databricks.v1+output": {
              "datasetInfos": [],
              "data": "root\n |-- practice: integer (nullable = true)\n |-- bnf_code: integer (nullable = true)\n |-- bnf_name: integer (nullable = true)\n |-- items: integer (nullable = true)\n |-- nic: double (nullable = true)\n |-- act_cost: double (nullable = true)\n |-- quantity: integer (nullable = true)\n\nNone\n",
              "removedWidgets": [],
              "addedWidgets": {},
              "metadata": {},
              "type": "ansi",
              "arguments": {}
            }
          },
          "data": {
            "text/plain": [
              "root\n |-- practice: integer (nullable = true)\n |-- bnf_code: integer (nullable = true)\n |-- bnf_name: integer (nullable = true)\n |-- items: integer (nullable = true)\n |-- nic: double (nullable = true)\n |-- act_cost: double (nullable = true)\n |-- quantity: integer (nullable = true)\n\nNone\n"
            ]
          }
        }
      ],
      "execution_count": null
    },
    {
      "cell_type": "markdown",
      "source": [
        "### Limpando os dados inválidos"
      ],
      "metadata": {
        "application/vnd.databricks.v1+cell": {
          "showTitle": false,
          "cellMetadata": {},
          "nuid": "14f99679-e667-44e3-8b69-10d7bf707d0a",
          "inputWidgets": {},
          "title": ""
        },
        "id": "ZIv_IUNrzPr0"
      }
    },
    {
      "cell_type": "code",
      "source": [
        "df.na.fill(value=0,subset=[\"quantity\"]).show()"
      ],
      "metadata": {
        "application/vnd.databricks.v1+cell": {
          "showTitle": false,
          "cellMetadata": {},
          "nuid": "9284abf7-c5e9-41c9-87e1-e7420a561101",
          "inputWidgets": {},
          "title": ""
        },
        "id": "qOL3xNrEzPr1",
        "outputId": "7fa8fca2-c049-4af6-c04c-41025688b7d5"
      },
      "outputs": [
        {
          "output_type": "display_data",
          "metadata": {
            "application/vnd.databricks.v1+output": {
              "datasetInfos": [],
              "data": "+--------+--------+--------+-----+------+--------+--------+\n|practice|bnf_code|bnf_name|items|   nic|act_cost|quantity|\n+--------+--------+--------+-----+------+--------+--------+\n|    5668|    8092|     592|    2|  44.1|   40.84|     189|\n|    1596|   17512|   16983|    2|  1.64|    1.64|      35|\n|    1596|   25587|   16124|    1|  1.26|    1.28|      42|\n|    1596|   12551|    1282|    2|  0.86|    1.02|      42|\n|    1596|   18938|   10575|    1|  1.85|    1.82|      56|\n|    1596|    8777|   21507|    1|  3.31|    3.18|      56|\n|    1596|    9369|   12008|    1| 63.15|   58.56|      56|\n|    1596|   27926|   17643|    2|158.66|  147.07|      56|\n|    1596|   26148|   10230|    1|  0.35|    0.44|      14|\n|    1596|    9148|    3381|    1|  0.26|    0.35|       7|\n|    1596|   19500|   18008|    1|  0.85|     0.9|      14|\n|    1596|    5312|    2870|    1|  0.56|    0.63|      14|\n|    1596|    5008|   15013|    1|  0.19|    0.29|       7|\n|    1596|    2885|    1851|    2|  1.99|    2.06|      59|\n|    1596|    5737|   10645|    4|  4.59|     4.6|      91|\n|    1596|   14030|   17315|    1|  1.16|    1.19|      21|\n|    1596|   22190|   12644|    2|  2.26|    2.32|      49|\n|    1596|   25059|   20447|    1|  1.23|    1.25|      28|\n|    1596|   24523|    7372|    2|  1.68|    1.68|      35|\n|    1596|   22227|    5860|    4|  2.69|    2.84|      57|\n+--------+--------+--------+-----+------+--------+--------+\nonly showing top 20 rows\n\n",
              "removedWidgets": [],
              "addedWidgets": {},
              "metadata": {},
              "type": "ansi",
              "arguments": {}
            }
          },
          "data": {
            "text/plain": [
              "+--------+--------+--------+-----+------+--------+--------+\n|practice|bnf_code|bnf_name|items|   nic|act_cost|quantity|\n+--------+--------+--------+-----+------+--------+--------+\n|    5668|    8092|     592|    2|  44.1|   40.84|     189|\n|    1596|   17512|   16983|    2|  1.64|    1.64|      35|\n|    1596|   25587|   16124|    1|  1.26|    1.28|      42|\n|    1596|   12551|    1282|    2|  0.86|    1.02|      42|\n|    1596|   18938|   10575|    1|  1.85|    1.82|      56|\n|    1596|    8777|   21507|    1|  3.31|    3.18|      56|\n|    1596|    9369|   12008|    1| 63.15|   58.56|      56|\n|    1596|   27926|   17643|    2|158.66|  147.07|      56|\n|    1596|   26148|   10230|    1|  0.35|    0.44|      14|\n|    1596|    9148|    3381|    1|  0.26|    0.35|       7|\n|    1596|   19500|   18008|    1|  0.85|     0.9|      14|\n|    1596|    5312|    2870|    1|  0.56|    0.63|      14|\n|    1596|    5008|   15013|    1|  0.19|    0.29|       7|\n|    1596|    2885|    1851|    2|  1.99|    2.06|      59|\n|    1596|    5737|   10645|    4|  4.59|     4.6|      91|\n|    1596|   14030|   17315|    1|  1.16|    1.19|      21|\n|    1596|   22190|   12644|    2|  2.26|    2.32|      49|\n|    1596|   25059|   20447|    1|  1.23|    1.25|      28|\n|    1596|   24523|    7372|    2|  1.68|    1.68|      35|\n|    1596|   22227|    5860|    4|  2.69|    2.84|      57|\n+--------+--------+--------+-----+------+--------+--------+\nonly showing top 20 rows\n\n"
            ]
          }
        }
      ],
      "execution_count": null
    },
    {
      "cell_type": "markdown",
      "source": [
        "### Convertendo para formato parquet"
      ],
      "metadata": {
        "application/vnd.databricks.v1+cell": {
          "showTitle": false,
          "cellMetadata": {},
          "nuid": "4a774f7c-edaa-4f45-975e-9c192bfb4570",
          "inputWidgets": {},
          "title": ""
        },
        "id": "rAizwD2dzPr2"
      }
    },
    {
      "cell_type": "code",
      "source": [
        "df.write.format(\"parquet\")\\\n",
        "        .mode(\"overwrite\")\\\n",
        "        .save(\"/FileStore/tables/processing/df-formatado.parquet\")"
      ],
      "metadata": {
        "application/vnd.databricks.v1+cell": {
          "showTitle": false,
          "cellMetadata": {},
          "nuid": "7b0c1189-fe11-4b22-b4de-454240499f7c",
          "inputWidgets": {},
          "title": ""
        },
        "id": "EPNLNXlSzPr3"
      },
      "outputs": [],
      "execution_count": null
    },
    {
      "cell_type": "markdown",
      "source": [],
      "metadata": {
        "application/vnd.databricks.v1+cell": {
          "showTitle": false,
          "cellMetadata": {},
          "nuid": "1ad56740-d393-449f-b349-64abc7031a13",
          "inputWidgets": {},
          "title": ""
        },
        "id": "7OzU36YUzPr4"
      }
    },
    {
      "cell_type": "markdown",
      "source": [
        "### Lendo o arquivos parquet para agregação de dados"
      ],
      "metadata": {
        "application/vnd.databricks.v1+cell": {
          "showTitle": false,
          "cellMetadata": {},
          "nuid": "c9faa019-3e55-4887-889d-e53a9473337b",
          "inputWidgets": {},
          "title": ""
        },
        "id": "1_9uqtOyzPr4"
      }
    },
    {
      "cell_type": "code",
      "source": [
        "df_parquet = spark.read.format(\"parquet\")\\\n",
        " .load(\"/FileStore/tables/processing/df-formatado.parquet\")"
      ],
      "metadata": {
        "application/vnd.databricks.v1+cell": {
          "showTitle": false,
          "cellMetadata": {},
          "nuid": "1dd581b0-6ff5-48c4-83f3-74ba09908002",
          "inputWidgets": {},
          "title": ""
        },
        "id": "gAxg3ZwMzPr5"
      },
      "outputs": [],
      "execution_count": null
    },
    {
      "cell_type": "code",
      "source": [
        "df_parquet.show()"
      ],
      "metadata": {
        "application/vnd.databricks.v1+cell": {
          "showTitle": false,
          "cellMetadata": {},
          "nuid": "e336a58c-f200-4016-98bf-8ed75650a8a3",
          "inputWidgets": {},
          "title": ""
        },
        "id": "sN8jKBCIzPr6",
        "outputId": "6f63f043-b2b7-4e04-e44d-a39225e68a70"
      },
      "outputs": [
        {
          "output_type": "display_data",
          "metadata": {
            "application/vnd.databricks.v1+output": {
              "datasetInfos": [],
              "data": "+--------+--------+--------+-----+------+--------+--------+\n|practice|bnf_code|bnf_name|items|   nic|act_cost|quantity|\n+--------+--------+--------+-----+------+--------+--------+\n|    3626|   12090|   20521|    3|   8.4|    7.82|     168|\n|    3626|   23511|   11576|    1| 32.18|   29.81|      28|\n|    3626|   14802|   14672|  162|141.13|  133.93|    4760|\n|    3626|   14590|   10011|   17| 15.01|   14.12|     532|\n|    3626|   24483|   13726|   69| 57.57|   54.67|    2121|\n|    3626|    7768|   22070|  155|113.03|  109.41|    4144|\n|    3626|    1877|   13598|  102|  68.5|    67.4|    2370|\n|    3626|   18110|    3990|  189|156.66|  150.44|    5222|\n|    3626|   14058|    2144|   23| 23.52|   22.48|     588|\n|    3626|    4558|    5695|   32|116.64|  109.21|     756|\n|    3626|    2851|     471|   97| 73.44|   71.92|    2387|\n|    3626|   20025|   21500|    2|   9.4|    8.74|     112|\n|    3626|   19371|   19847|    1|   5.9|    5.48|      28|\n|    3626|   21630|      92|    1|  11.8|   10.94|      56|\n|    3626|    3704|   15798|    5| 23.33|   21.77|     230|\n|    3626|   18689|    9098|    2|  22.2|   20.69|     140|\n|    3626|     865|   17051|   15|  27.5|   26.27|     616|\n|    3626|   22188|    9551|    2|  5.48|     5.1|     112|\n|    3626|    2237|    2697|   29| 158.4|  147.05|     896|\n|    3626|   18335|   22620|    8| 29.28|   27.61|     168|\n+--------+--------+--------+-----+------+--------+--------+\nonly showing top 20 rows\n\n",
              "removedWidgets": [],
              "addedWidgets": {},
              "metadata": {},
              "type": "ansi",
              "arguments": {}
            }
          },
          "data": {
            "text/plain": [
              "+--------+--------+--------+-----+------+--------+--------+\n|practice|bnf_code|bnf_name|items|   nic|act_cost|quantity|\n+--------+--------+--------+-----+------+--------+--------+\n|    3626|   12090|   20521|    3|   8.4|    7.82|     168|\n|    3626|   23511|   11576|    1| 32.18|   29.81|      28|\n|    3626|   14802|   14672|  162|141.13|  133.93|    4760|\n|    3626|   14590|   10011|   17| 15.01|   14.12|     532|\n|    3626|   24483|   13726|   69| 57.57|   54.67|    2121|\n|    3626|    7768|   22070|  155|113.03|  109.41|    4144|\n|    3626|    1877|   13598|  102|  68.5|    67.4|    2370|\n|    3626|   18110|    3990|  189|156.66|  150.44|    5222|\n|    3626|   14058|    2144|   23| 23.52|   22.48|     588|\n|    3626|    4558|    5695|   32|116.64|  109.21|     756|\n|    3626|    2851|     471|   97| 73.44|   71.92|    2387|\n|    3626|   20025|   21500|    2|   9.4|    8.74|     112|\n|    3626|   19371|   19847|    1|   5.9|    5.48|      28|\n|    3626|   21630|      92|    1|  11.8|   10.94|      56|\n|    3626|    3704|   15798|    5| 23.33|   21.77|     230|\n|    3626|   18689|    9098|    2|  22.2|   20.69|     140|\n|    3626|     865|   17051|   15|  27.5|   26.27|     616|\n|    3626|   22188|    9551|    2|  5.48|     5.1|     112|\n|    3626|    2237|    2697|   29| 158.4|  147.05|     896|\n|    3626|   18335|   22620|    8| 29.28|   27.61|     168|\n+--------+--------+--------+-----+------+--------+--------+\nonly showing top 20 rows\n\n"
            ]
          }
        }
      ],
      "execution_count": null
    },
    {
      "cell_type": "markdown",
      "source": [
        "### cria uma view para trabalhar com sql"
      ],
      "metadata": {
        "application/vnd.databricks.v1+cell": {
          "showTitle": false,
          "cellMetadata": {},
          "nuid": "7857faa4-26cd-416e-a5ec-db71b2663880",
          "inputWidgets": {},
          "title": ""
        },
        "id": "E-R85j61zPr7"
      }
    },
    {
      "cell_type": "code",
      "source": [
        "df_parquet.createOrReplaceTempView(\"Dados_Sql\")"
      ],
      "metadata": {
        "application/vnd.databricks.v1+cell": {
          "showTitle": false,
          "cellMetadata": {},
          "nuid": "5bcef8e0-2168-46e2-8e75-559f5ea23d0c",
          "inputWidgets": {},
          "title": ""
        },
        "id": "T7hXCK6mzPr7"
      },
      "outputs": [],
      "execution_count": null
    },
    {
      "cell_type": "markdown",
      "source": [
        "### processa os dados conforme regra de negócio"
      ],
      "metadata": {
        "application/vnd.databricks.v1+cell": {
          "showTitle": false,
          "cellMetadata": {},
          "nuid": "f59a6e0b-0ebe-445e-85e3-368519fced6f",
          "inputWidgets": {},
          "title": ""
        },
        "id": "pknqqxAQzPr8"
      }
    },
    {
      "cell_type": "code",
      "source": [
        "df_sql = spark.sql(\"SELECT BNF_CODE as Bnf_code \\\n",
        "                       ,SUM(ACT_COST) as Soma_cost \\\n",
        "                       ,SUM(QUANTITY) as Soma_Quantidade \\\n",
        "                       ,SUM(ITEMS) as Soma_items \\\n",
        "                       ,AVG(ACT_COST) as Media_cost \\\n",
        "                      FROM Dados_Sql \\\n",
        "                      GROUP BY bnf_code\")"
      ],
      "metadata": {
        "application/vnd.databricks.v1+cell": {
          "showTitle": false,
          "cellMetadata": {},
          "nuid": "aeaa799b-5b27-4572-be29-cba747822750",
          "inputWidgets": {},
          "title": ""
        },
        "id": "Ns4BCnYGzPr8"
      },
      "outputs": [],
      "execution_count": null
    },
    {
      "cell_type": "code",
      "source": [
        "df_sql.show()"
      ],
      "metadata": {
        "application/vnd.databricks.v1+cell": {
          "showTitle": false,
          "cellMetadata": {},
          "nuid": "f50bee1b-04c5-4e41-a2f7-22c585d84c68",
          "inputWidgets": {},
          "title": ""
        },
        "id": "dVNyVOe9zPr9",
        "outputId": "91101509-9bfe-4908-a5d3-4e3b39f6a5ed"
      },
      "outputs": [
        {
          "output_type": "display_data",
          "metadata": {
            "application/vnd.databricks.v1+output": {
              "datasetInfos": [],
              "data": "+--------+-------------------+---------------+----------+------------------+\n|Bnf_code|          Soma_cost|Soma_Quantidade|Soma_items|        Media_cost|\n+--------+-------------------+---------------+----------+------------------+\n|   16250|3.769104584999993E7|       994129.0|  845989.0| 508.3903780787171|\n|    2088|  9105466.170000017|    2.4188764E8| 2677090.0| 106.1824795633974|\n|   13865| 12989.770000000006|        63478.0|    2031.0| 9.180049469964668|\n|   18306| 52142.059999999816|      2517150.0|   17030.0| 4.185763827566815|\n|    5325|  310848.3899999983|       783359.0|   50699.0|12.204491166077673|\n|   24114| 60152.000000000015|        21405.0|     373.0|178.49258160237392|\n|    6240| 222630.83000000007|        86646.0|    4412.0| 82.73163507989598|\n|   20428|  305973.7399999996|      1648494.0|   24401.0|20.386017722699687|\n|   19132| 1156145.2500000005|    7.5012454E7|    9336.0|203.15326831839755|\n|     691|  7792272.970000002|      1276771.0| 1276581.0|1427.9408044713216|\n|   13772|           47731.05|        30282.0|     913.0| 64.32756064690027|\n|    4032| 160634.21999999968|       229991.0|   11851.0| 19.17104905119939|\n|   14369| 231276.41999999987|       204139.0|    4067.0|  93.1814746172441|\n|    2162|  44302.58999999993|        11926.0|    9112.0| 7.629169967280856|\n|   11078| 228220.82000000007|       239030.0|    4502.0| 69.64321635642358|\n|   18726|  1496484.600000003|      8494608.0|  115282.0|   70.688927727917|\n|   21452|  36103.27000000002|        77259.0|    2734.0| 19.10225925925927|\n|   13442| 1681.5700000000002|           24.0|      19.0| 93.42055555555557|\n|   27108| 323187.42999999993|        85178.0|    2498.0|152.95193090392803|\n|     467| 140696.03999999998|        10594.0|    3422.0|  52.2063228200371|\n+--------+-------------------+---------------+----------+------------------+\nonly showing top 20 rows\n\n",
              "removedWidgets": [],
              "addedWidgets": {},
              "metadata": {},
              "type": "ansi",
              "arguments": {}
            }
          },
          "data": {
            "text/plain": [
              "+--------+-------------------+---------------+----------+------------------+\n|Bnf_code|          Soma_cost|Soma_Quantidade|Soma_items|        Media_cost|\n+--------+-------------------+---------------+----------+------------------+\n|   16250|3.769104584999993E7|       994129.0|  845989.0| 508.3903780787171|\n|    2088|  9105466.170000017|    2.4188764E8| 2677090.0| 106.1824795633974|\n|   13865| 12989.770000000006|        63478.0|    2031.0| 9.180049469964668|\n|   18306| 52142.059999999816|      2517150.0|   17030.0| 4.185763827566815|\n|    5325|  310848.3899999983|       783359.0|   50699.0|12.204491166077673|\n|   24114| 60152.000000000015|        21405.0|     373.0|178.49258160237392|\n|    6240| 222630.83000000007|        86646.0|    4412.0| 82.73163507989598|\n|   20428|  305973.7399999996|      1648494.0|   24401.0|20.386017722699687|\n|   19132| 1156145.2500000005|    7.5012454E7|    9336.0|203.15326831839755|\n|     691|  7792272.970000002|      1276771.0| 1276581.0|1427.9408044713216|\n|   13772|           47731.05|        30282.0|     913.0| 64.32756064690027|\n|    4032| 160634.21999999968|       229991.0|   11851.0| 19.17104905119939|\n|   14369| 231276.41999999987|       204139.0|    4067.0|  93.1814746172441|\n|    2162|  44302.58999999993|        11926.0|    9112.0| 7.629169967280856|\n|   11078| 228220.82000000007|       239030.0|    4502.0| 69.64321635642358|\n|   18726|  1496484.600000003|      8494608.0|  115282.0|   70.688927727917|\n|   21452|  36103.27000000002|        77259.0|    2734.0| 19.10225925925927|\n|   13442| 1681.5700000000002|           24.0|      19.0| 93.42055555555557|\n|   27108| 323187.42999999993|        85178.0|    2498.0|152.95193090392803|\n|     467| 140696.03999999998|        10594.0|    3422.0|  52.2063228200371|\n+--------+-------------------+---------------+----------+------------------+\nonly showing top 20 rows\n\n"
            ]
          }
        }
      ],
      "execution_count": null
    },
    {
      "cell_type": "code",
      "source": [
        "df_sql.write.format(\"parquet\")\\\n",
        "            .mode(\"overwrite\")\\\n",
        "            .save(\"/FileStore/tables/cureted/df-Dados-Agregados.parquet\")"
      ],
      "metadata": {
        "application/vnd.databricks.v1+cell": {
          "showTitle": false,
          "cellMetadata": {},
          "nuid": "46554345-d3b5-4ec1-b0b2-8f0eb345be6e",
          "inputWidgets": {},
          "title": ""
        },
        "id": "2t0N1fmyzPr-"
      },
      "outputs": [],
      "execution_count": null
    },
    {
      "cell_type": "markdown",
      "source": [],
      "metadata": {
        "application/vnd.databricks.v1+cell": {
          "showTitle": false,
          "cellMetadata": {},
          "nuid": "8f1c6c44-b8df-4a42-8a05-9bbf16310ea9",
          "inputWidgets": {},
          "title": ""
        },
        "id": "IVp6mJCtzPr_"
      }
    }
  ],
  "metadata": {
    "kernelspec": {
      "display_name": "Python 3 (ipykernel)",
      "language": "python",
      "name": "python3"
    },
    "language_info": {
      "mimetype": "text/x-python",
      "name": "python",
      "pygments_lexer": "ipython3",
      "codemirror_mode": {
        "name": "ipython",
        "version": 3
      },
      "version": "3.11.0",
      "nbconvert_exporter": "python",
      "file_extension": ".py"
    },
    "application/vnd.databricks.v1+notebook": {
      "notebookName": "SparckComDatabriks",
      "dashboards": [],
      "notebookMetadata": {
        "pythonIndentUnit": 4
      },
      "language": "python",
      "widgets": {},
      "notebookOrigID": 491510413198744
    },
    "colab": {
      "provenance": [],
      "include_colab_link": true
    }
  },
  "nbformat": 4,
  "nbformat_minor": 0
}